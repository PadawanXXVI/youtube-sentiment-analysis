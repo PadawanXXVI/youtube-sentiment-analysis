{
 "cells": [
  {
   "cell_type": "markdown",
   "id": "103b00b5",
   "metadata": {},
   "source": [
    "\n",
    "# 📊 Fase 3 — Visualização e Geração de Insights\n",
    "**Projeto:** Mineração de Textos — Análise de Sentimentos no YouTube  \n",
    "**CRISP-DM:** Data Understanding / Evaluation (visual)\n",
    "\n",
    "Este notebook lê os resultados da **Fase 2** e produz **KPIs + gráficos interativos** (Plotly).  \n",
    "Os gráficos também são exportados para **HTML**, facilitando a integração no Flask.\n"
   ]
  },
  {
   "cell_type": "code",
   "execution_count": 12,
   "id": "f7a54831",
   "metadata": {},
   "outputs": [
    {
     "ename": "ModuleNotFoundError",
     "evalue": "No module named 'plotly'",
     "output_type": "error",
     "traceback": [
      "\u001b[31m---------------------------------------------------------------------------\u001b[39m",
      "\u001b[31mModuleNotFoundError\u001b[39m                       Traceback (most recent call last)",
      "\u001b[36mCell\u001b[39m\u001b[36m \u001b[39m\u001b[32mIn[12]\u001b[39m\u001b[32m, line 7\u001b[39m\n\u001b[32m      5\u001b[39m \u001b[38;5;28;01mimport\u001b[39;00m\u001b[38;5;250m \u001b[39m\u001b[34;01mpandas\u001b[39;00m\u001b[38;5;250m \u001b[39m\u001b[38;5;28;01mas\u001b[39;00m\u001b[38;5;250m \u001b[39m\u001b[34;01mpd\u001b[39;00m\n\u001b[32m      6\u001b[39m \u001b[38;5;28;01mfrom\u001b[39;00m\u001b[38;5;250m \u001b[39m\u001b[34;01mglob\u001b[39;00m\u001b[38;5;250m \u001b[39m\u001b[38;5;28;01mimport\u001b[39;00m glob\n\u001b[32m----> \u001b[39m\u001b[32m7\u001b[39m \u001b[38;5;28;01mimport\u001b[39;00m\u001b[38;5;250m \u001b[39m\u001b[34;01mplotly\u001b[39;00m\u001b[34;01m.\u001b[39;00m\u001b[34;01mexpress\u001b[39;00m\u001b[38;5;250m \u001b[39m\u001b[38;5;28;01mas\u001b[39;00m\u001b[38;5;250m \u001b[39m\u001b[34;01mpx\u001b[39;00m\n\u001b[32m      9\u001b[39m INPUT_PATTERN = os.getenv(\u001b[33m\"\u001b[39m\u001b[33mANALYSIS_INPUT_PATTERN\u001b[39m\u001b[33m\"\u001b[39m, \u001b[33m\"\u001b[39m\u001b[33mresultados/comentarios_analisados_*.csv\u001b[39m\u001b[33m\"\u001b[39m)\n\u001b[32m     10\u001b[39m EXPORT_DIR = os.getenv(\u001b[33m\"\u001b[39m\u001b[33mEXPORT_DIR\u001b[39m\u001b[33m\"\u001b[39m, \u001b[33m\"\u001b[39m\u001b[33mdashboards\u001b[39m\u001b[33m\"\u001b[39m)\n",
      "\u001b[31mModuleNotFoundError\u001b[39m: No module named 'plotly'"
     ]
    }
   ],
   "source": [
    "\n",
    "# ============================================================\n",
    "# 1) Importações e Parâmetros\n",
    "# ============================================================\n",
    "import os, json\n",
    "import pandas as pd\n",
    "from glob import glob\n",
    "import plotly.express as px\n",
    "\n",
    "INPUT_PATTERN = os.getenv(\"ANALYSIS_INPUT_PATTERN\", \"resultados/comentarios_analisados_*.csv\")\n",
    "EXPORT_DIR = os.getenv(\"EXPORT_DIR\", \"dashboards\")\n",
    "\n",
    "os.makedirs(EXPORT_DIR, exist_ok=True)\n",
    "print(\"✅ Parâmetros prontos.\")\n",
    "print(\"INPUT_PATTERN:\", INPUT_PATTERN)\n",
    "print(\"EXPORT_DIR   :\", EXPORT_DIR)"
   ]
  },
  {
   "cell_type": "code",
   "execution_count": 9,
   "id": "02f21314",
   "metadata": {},
   "outputs": [
    {
     "name": "stdout",
     "output_type": "stream",
     "text": [
      "📥 Lido: resultados\\comentarios_analisados_20251030_200939.csv | Linhas: 4007\n"
     ]
    },
    {
     "data": {
      "text/html": [
       "<div>\n",
       "<style scoped>\n",
       "    .dataframe tbody tr th:only-of-type {\n",
       "        vertical-align: middle;\n",
       "    }\n",
       "\n",
       "    .dataframe tbody tr th {\n",
       "        vertical-align: top;\n",
       "    }\n",
       "\n",
       "    .dataframe thead th {\n",
       "        text-align: right;\n",
       "    }\n",
       "</style>\n",
       "<table border=\"1\" class=\"dataframe\">\n",
       "  <thead>\n",
       "    <tr style=\"text-align: right;\">\n",
       "      <th></th>\n",
       "      <th>video_id</th>\n",
       "      <th>video_titulo</th>\n",
       "      <th>comentario</th>\n",
       "      <th>idioma</th>\n",
       "      <th>data_coleta</th>\n",
       "      <th>comentario_limpo</th>\n",
       "      <th>sentimento</th>\n",
       "      <th>score</th>\n",
       "      <th>modelo_utilizado</th>\n",
       "    </tr>\n",
       "  </thead>\n",
       "  <tbody>\n",
       "    <tr>\n",
       "      <th>0</th>\n",
       "      <td>VKf6NF0OD5A</td>\n",
       "      <td>The new and improved YouTube Studio is here</td>\n",
       "      <td>Check out the entire series on how to use YouT...</td>\n",
       "      <td>en</td>\n",
       "      <td>2025-10-30</td>\n",
       "      <td>check out the entire series on how to use yout...</td>\n",
       "      <td>positivo</td>\n",
       "      <td>0.484485</td>\n",
       "      <td>nlptown/bert-base-multilingual-uncased-sentiment</td>\n",
       "    </tr>\n",
       "    <tr>\n",
       "      <th>1</th>\n",
       "      <td>VKf6NF0OD5A</td>\n",
       "      <td>The new and improved YouTube Studio is here</td>\n",
       "      <td>Wow❤</td>\n",
       "      <td>en</td>\n",
       "      <td>2025-10-30</td>\n",
       "      <td>wow:red heart:</td>\n",
       "      <td>positivo</td>\n",
       "      <td>0.686705</td>\n",
       "      <td>nlptown/bert-base-multilingual-uncased-sentiment</td>\n",
       "    </tr>\n",
       "    <tr>\n",
       "      <th>2</th>\n",
       "      <td>VKf6NF0OD5A</td>\n",
       "      <td>The new and improved YouTube Studio is here</td>\n",
       "      <td>Nice</td>\n",
       "      <td>pl</td>\n",
       "      <td>2025-10-30</td>\n",
       "      <td>nice</td>\n",
       "      <td>positivo</td>\n",
       "      <td>0.436841</td>\n",
       "      <td>nlptown/bert-base-multilingual-uncased-sentiment</td>\n",
       "    </tr>\n",
       "  </tbody>\n",
       "</table>\n",
       "</div>"
      ],
      "text/plain": [
       "      video_id                                 video_titulo  \\\n",
       "0  VKf6NF0OD5A  The new and improved YouTube Studio is here   \n",
       "1  VKf6NF0OD5A  The new and improved YouTube Studio is here   \n",
       "2  VKf6NF0OD5A  The new and improved YouTube Studio is here   \n",
       "\n",
       "                                          comentario idioma data_coleta  \\\n",
       "0  Check out the entire series on how to use YouT...     en  2025-10-30   \n",
       "1                                               Wow❤     en  2025-10-30   \n",
       "2                                               Nice     pl  2025-10-30   \n",
       "\n",
       "                                    comentario_limpo sentimento     score  \\\n",
       "0  check out the entire series on how to use yout...   positivo  0.484485   \n",
       "1                                     wow:red heart:   positivo  0.686705   \n",
       "2                                               nice   positivo  0.436841   \n",
       "\n",
       "                                   modelo_utilizado  \n",
       "0  nlptown/bert-base-multilingual-uncased-sentiment  \n",
       "1  nlptown/bert-base-multilingual-uncased-sentiment  \n",
       "2  nlptown/bert-base-multilingual-uncased-sentiment  "
      ]
     },
     "execution_count": 9,
     "metadata": {},
     "output_type": "execute_result"
    }
   ],
   "source": [
    "\n",
    "# ============================================================\n",
    "# 2) Carregar o último resultado da Fase 2\n",
    "# ============================================================\n",
    "def ultimo_csv(pattern: str) -> str:\n",
    "    arquivos = sorted(glob(pattern))\n",
    "    if not arquivos:\n",
    "        raise FileNotFoundError(\"Nenhum resultado encontrado. Execute a Fase 2 antes (analise.ipynb).\")\n",
    "    return arquivos[-1]\n",
    "\n",
    "INPUT_FILE = ultimo_csv(INPUT_PATTERN)\n",
    "df = pd.read_csv(INPUT_FILE)\n",
    "print(f\"📥 Lido: {INPUT_FILE} | Linhas: {len(df)}\")\n",
    "df.head(3)"
   ]
  },
  {
   "cell_type": "code",
   "execution_count": 10,
   "id": "9ed8297d",
   "metadata": {},
   "outputs": [
    {
     "name": "stdout",
     "output_type": "stream",
     "text": [
      "📌 KPIs\n",
      "- total_comentarios: 4007\n",
      "- pct_positivo: 62.57\n",
      "- pct_neutro: 13.68\n",
      "- pct_negativo: 23.76\n",
      "- top5_idiomas: {'en': 72.72, 'id': 3.02, 'es': 2.45, 'so': 2.15, 'pt': 1.8}\n",
      "- melhor_video_positivo_%: Customize Your Channel Branding &amp; Layout: Add a Profile Picture, Banner, Trailer, Sections, &amp; more!\n",
      "- melhor_video_positivo_val: 72.67\n",
      "- pior_video_negativo_%: Intro To Live Streaming on YouTube\n",
      "- pior_video_negativo_val: 31.76\n"
     ]
    },
    {
     "data": {
      "text/plain": [
       "OrderedDict([('total_comentarios', 4007),\n",
       "             ('pct_positivo', 62.57),\n",
       "             ('pct_neutro', 13.68),\n",
       "             ('pct_negativo', 23.76),\n",
       "             ('top5_idiomas',\n",
       "              {'en': 72.72, 'id': 3.02, 'es': 2.45, 'so': 2.15, 'pt': 1.8}),\n",
       "             ('melhor_video_positivo_%',\n",
       "              'Customize Your Channel Branding &amp; Layout: Add a Profile Picture, Banner, Trailer, Sections, &amp; more!'),\n",
       "             ('melhor_video_positivo_val', 72.67),\n",
       "             ('pior_video_negativo_%', 'Intro To Live Streaming on YouTube'),\n",
       "             ('pior_video_negativo_val', 31.76)])"
      ]
     },
     "execution_count": 10,
     "metadata": {},
     "output_type": "execute_result"
    }
   ],
   "source": [
    "\n",
    "# ============================================================\n",
    "# 3) KPIs — métricas essenciais\n",
    "# ============================================================\n",
    "from collections import OrderedDict\n",
    "\n",
    "kpi = OrderedDict()\n",
    "kpi[\"total_comentarios\"] = int(len(df))\n",
    "dist = df[\"sentimento\"].value_counts(normalize=True).reindex([\"positivo\",\"neutro\",\"negativo\"]).fillna(0.0)*100\n",
    "kpi[\"pct_positivo\"] = round(float(dist.get(\"positivo\", 0.0)), 2)\n",
    "kpi[\"pct_neutro\"]   = round(float(dist.get(\"neutro\", 0.0)), 2)\n",
    "kpi[\"pct_negativo\"] = round(float(dist.get(\"negativo\", 0.0)), 2)\n",
    "\n",
    "idiomas = df[\"idioma\"].value_counts(normalize=True)*100\n",
    "top5_idiomas = idiomas.head(5).round(2).to_dict()\n",
    "kpi[\"top5_idiomas\"] = top5_idiomas\n",
    "\n",
    "por_video = df.groupby(\"video_titulo\")[\"sentimento\"].value_counts(normalize=True).unstack(fill_value=0.0)*100\n",
    "por_video = por_video.reindex(columns=[\"positivo\",\"neutro\",\"negativo\"]).fillna(0.0)\n",
    "\n",
    "kpi[\"melhor_video_positivo_%\"] = por_video[\"positivo\"].idxmax() if not por_video.empty else None\n",
    "kpi[\"melhor_video_positivo_val\"] = round(float(por_video[\"positivo\"].max()), 2) if not por_video.empty else None\n",
    "\n",
    "kpi[\"pior_video_negativo_%\"] = por_video[\"negativo\"].idxmax() if not por_video.empty else None\n",
    "kpi[\"pior_video_negativo_val\"] = round(float(por_video[\"negativo\"].max()), 2) if not por_video.empty else None\n",
    "\n",
    "print(\"📌 KPIs\")\n",
    "for k,v in kpi.items():\n",
    "    print(f\"- {k}: {v}\")\n",
    "kpi"
   ]
  },
  {
   "cell_type": "code",
   "execution_count": 11,
   "id": "c25c1960",
   "metadata": {},
   "outputs": [
    {
     "ename": "NameError",
     "evalue": "name 'px' is not defined",
     "output_type": "error",
     "traceback": [
      "\u001b[31m---------------------------------------------------------------------------\u001b[39m",
      "\u001b[31mNameError\u001b[39m                                 Traceback (most recent call last)",
      "\u001b[36mCell\u001b[39m\u001b[36m \u001b[39m\u001b[32mIn[11]\u001b[39m\u001b[32m, line 4\u001b[39m\n\u001b[32m      1\u001b[39m \u001b[38;5;66;03m# ============================================================\u001b[39;00m\n\u001b[32m      2\u001b[39m \u001b[38;5;66;03m# 4) Gráfico 1 — Distribuição geral de sentimentos\u001b[39;00m\n\u001b[32m      3\u001b[39m \u001b[38;5;66;03m# ============================================================\u001b[39;00m\n\u001b[32m----> \u001b[39m\u001b[32m4\u001b[39m fig_sent = \u001b[43mpx\u001b[49m.bar(\n\u001b[32m      5\u001b[39m     df[\u001b[33m\"\u001b[39m\u001b[33msentimento\u001b[39m\u001b[33m\"\u001b[39m].value_counts().reset_index(),\n\u001b[32m      6\u001b[39m     x=\u001b[33m\"\u001b[39m\u001b[33mindex\u001b[39m\u001b[33m\"\u001b[39m, y=\u001b[33m\"\u001b[39m\u001b[33msentimento\u001b[39m\u001b[33m\"\u001b[39m,\n\u001b[32m      7\u001b[39m     labels={\u001b[33m\"\u001b[39m\u001b[33mindex\u001b[39m\u001b[33m\"\u001b[39m:\u001b[33m\"\u001b[39m\u001b[33mSentimento\u001b[39m\u001b[33m\"\u001b[39m,\u001b[33m\"\u001b[39m\u001b[33msentimento\u001b[39m\u001b[33m\"\u001b[39m:\u001b[33m\"\u001b[39m\u001b[33mQuantidade\u001b[39m\u001b[33m\"\u001b[39m},\n\u001b[32m      8\u001b[39m     title=\u001b[33m\"\u001b[39m\u001b[33mDistribuição de Sentimentos (Geral)\u001b[39m\u001b[33m\"\u001b[39m\n\u001b[32m      9\u001b[39m )\n\u001b[32m     10\u001b[39m fig_sent.show()\n\u001b[32m     12\u001b[39m sent_html = os.path.join(EXPORT_DIR, \u001b[33m\"\u001b[39m\u001b[33m01_distribuicao_sentimentos.html\u001b[39m\u001b[33m\"\u001b[39m)\n",
      "\u001b[31mNameError\u001b[39m: name 'px' is not defined"
     ]
    }
   ],
   "source": [
    "\n",
    "# ============================================================\n",
    "# 4) Gráfico 1 — Distribuição geral de sentimentos\n",
    "# ============================================================\n",
    "fig_sent = px.bar(\n",
    "    df[\"sentimento\"].value_counts().reset_index(),\n",
    "    x=\"index\", y=\"sentimento\",\n",
    "    labels={\"index\":\"Sentimento\",\"sentimento\":\"Quantidade\"},\n",
    "    title=\"Distribuição de Sentimentos (Geral)\"\n",
    ")\n",
    "fig_sent.show()\n",
    "\n",
    "sent_html = os.path.join(EXPORT_DIR, \"01_distribuicao_sentimentos.html\")\n",
    "with open(sent_html, \"w\", encoding=\"utf-8\") as f:\n",
    "    f.write(fig_sent.to_html(include_plotlyjs=\"cdn\", full_html=True))\n",
    "sent_html"
   ]
  },
  {
   "cell_type": "code",
   "execution_count": null,
   "id": "fa81469c",
   "metadata": {},
   "outputs": [],
   "source": [
    "\n",
    "# ============================================================\n",
    "# 5) Gráfico 2 — Sentimentos por vídeo (empilhado)\n",
    "# ============================================================\n",
    "pv = df.groupby([\"video_titulo\",\"sentimento\"]).size().reset_index(name=\"qtd\")\n",
    "fig_vid = px.bar(\n",
    "    pv, x=\"video_titulo\", y=\"qtd\", color=\"sentimento\",\n",
    "    title=\"Sentimentos por Vídeo (Empilhado)\",\n",
    "    labels={\"video_titulo\":\"Vídeo\",\"qtd\":\"Quantidade\",\"sentimento\":\"Sentimento\"}\n",
    ")\n",
    "fig_vid.update_layout(xaxis={'categoryorder':'total descending'})\n",
    "fig_vid.show()\n",
    "\n",
    "vid_html = os.path.join(EXPORT_DIR, \"02_sentimentos_por_video.html\")\n",
    "with open(vid_html, \"w\", encoding=\"utf-8\") as f:\n",
    "    f.write(fig_vid.to_html(include_plotlyjs=\"cdn\", full_html=True))\n",
    "vid_html"
   ]
  },
  {
   "cell_type": "code",
   "execution_count": null,
   "id": "1ab3599e",
   "metadata": {},
   "outputs": [],
   "source": [
    "\n",
    "# ============================================================\n",
    "# 6) Gráfico 3 — Top 5 idiomas (percentual)\n",
    "# ============================================================\n",
    "idiomas_top = df[\"idioma\"].value_counts(normalize=True).head(5)*100\n",
    "df_idiomas = idiomas_top.round(2).reset_index()\n",
    "df_idiomas.columns = [\"idioma\",\"percentual\"]\n",
    "\n",
    "fig_id = px.bar(\n",
    "    df_idiomas, x=\"idioma\", y=\"percentual\",\n",
    "    title=\"Top 5 Idiomas — Participação (%)\",\n",
    "    labels={\"idioma\":\"Idioma\",\"percentual\":\"% de Comentários\"}\n",
    ")\n",
    "fig_id.show()\n",
    "\n",
    "id_html = os.path.join(EXPORT_DIR, \"03_top5_idiomas.html\")\n",
    "with open(id_html, \"w\", encoding=\"utf-8\") as f:\n",
    "    f.write(fig_id.to_html(include_plotlyjs=\"cdn\", full_html=True))\n",
    "id_html"
   ]
  },
  {
   "cell_type": "code",
   "execution_count": null,
   "id": "ff4025fb",
   "metadata": {},
   "outputs": [],
   "source": [
    "\n",
    "# ============================================================\n",
    "# 7) Insights automáticos — texto interpretativo\n",
    "# ============================================================\n",
    "def gerar_insights(df, kpi):\n",
    "    msgs = []\n",
    "    msgs.append(f\"Total de {kpi['total_comentarios']} comentários analisados.\")\n",
    "    msgs.append(f\"Clima geral: {kpi['pct_positivo']}% positivo, {kpi['pct_neutro']}% neutro, {kpi['pct_negativo']}% negativo.\")\n",
    "    if kpi[\"melhor_video_positivo_%\"]:\n",
    "        msgs.append(f\"Vídeo com maior positividade: “{kpi['melhor_video_positivo_%']}” ({kpi['melhor_video_positivo_val']}% positivo).\")\n",
    "    if kpi[\"pior_video_negativo_%\"]:\n",
    "        msgs.append(f\"Vídeo com maior negatividade: “{kpi['pior_video_negativo_%']}” ({kpi['pior_video_negativo_val']}% negativo).\")\n",
    "    if kpi[\"top5_idiomas\"]:\n",
    "        top_id = \", \".join([f\"{k}:{v:.1f}%\" for k,v in kpi['top5_idiomas'].items()])\n",
    "        msgs.append(f\"Idiomas mais frequentes: {top_id}.\")\n",
    "    msgs.append(\"Sugestão: aprofundar os vídeos com maior negatividade e replicar padrões dos com maior positividade.\")\n",
    "    return msgs\n",
    "\n",
    "insights = gerar_insights(df, kpi)\n",
    "for m in insights:\n",
    "    print(\"•\", m)\n",
    "\n",
    "# Exportar insights\n",
    "ts = pd.Timestamp.now().strftime(\"%Y%m%d_%H%M%S\")\n",
    "ins_json = os.path.join(EXPORT_DIR, f\"insights_{ts}.json\")\n",
    "ins_txt = os.path.join(EXPORT_DIR, f\"insights_{ts}.txt\")\n",
    "\n",
    "import json\n",
    "with open(ins_json, \"w\", encoding=\"utf-8\") as f:\n",
    "    json.dump({\"arquivo_fonte\": INPUT_FILE, \"kpi\": kpi, \"insights\": insights}, f, ensure_ascii=False, indent=2)\n",
    "\n",
    "with open(ins_txt, \"w\", encoding=\"utf-8\") as f:\n",
    "    f.write(\"\\n\".join(insights))\n",
    "\n",
    "ins_json, ins_txt"
   ]
  }
 ],
 "metadata": {
  "kernelspec": {
   "display_name": ".venv",
   "language": "python",
   "name": "python3"
  },
  "language_info": {
   "codemirror_mode": {
    "name": "ipython",
    "version": 3
   },
   "file_extension": ".py",
   "mimetype": "text/x-python",
   "name": "python",
   "nbconvert_exporter": "python",
   "pygments_lexer": "ipython3",
   "version": "3.13.7"
  }
 },
 "nbformat": 4,
 "nbformat_minor": 5
}
