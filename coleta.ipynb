{
 "cells": [
  {
   "cell_type": "markdown",
   "id": "cccc9ac9",
   "metadata": {},
   "source": [
    "# 🎥 YouTube - Pipeline de Coleta de Comentários\n",
    "\n",
    "Este notebook implementa a **pipeline de coleta de dados** do projeto *Análise de Sentimentos em Comentários do YouTube*.  \n",
    "Aqui são coletados os comentários dos vídeos de um canal do YouTube utilizando a API oficial, estruturando a base de dados para análise posterior.\n",
    "\n",
    "📌 **Etapa:** Pipeline 1 – Coleta de Dados  \n",
    "📌 **Próxima etapa:** Pipeline 2 – Análise de Sentimentos\n"
   ]
  },
  {
   "cell_type": "markdown",
   "id": "d37c32c9",
   "metadata": {},
   "source": [
    "## 🔧 1. Importação das bibliotecas\n",
    "\n",
    "As bibliotecas abaixo permitem a conexão com a API do YouTube, o carregamento de variáveis de ambiente e a manipulação dos dados coletados.\n"
   ]
  },
  {
   "cell_type": "code",
   "execution_count": 4,
   "id": "f4793b51",
   "metadata": {},
   "outputs": [],
   "source": [
    "# Bibliotecas para coleta e organização dos dados\n",
    "from googleapiclient.discovery import build\n",
    "from dotenv import load_dotenv\n",
    "import pandas as pd\n",
    "import os\n",
    "import time\n"
   ]
  },
  {
   "cell_type": "markdown",
   "id": "dd304065",
   "metadata": {},
   "source": [
    "## ⚙️ 2. Configurações iniciais\n",
    "\n",
    "Esta seção carrega as variáveis de ambiente e define os parâmetros principais para a coleta.\n",
    "\n",
    "- `YOUTUBE_API_KEY` → Chave da API do YouTube.\n",
    "- `CHANNEL_ID` → Canal que será analisado.\n",
    "- O notebook coleta, por padrão, os **5 vídeos mais visualizados** do canal.\n"
   ]
  },
  {
   "cell_type": "code",
   "execution_count": 5,
   "id": "26de6d26",
   "metadata": {},
   "outputs": [
    {
     "name": "stdout",
     "output_type": "stream",
     "text": [
      "✅ Variáveis carregadas com sucesso!\n"
     ]
    }
   ],
   "source": [
    "import os\n",
    "from dotenv import load_dotenv\n",
    "\n",
    "# 🔐 Carregar variáveis do arquivo .env\n",
    "load_dotenv()\n",
    "\n",
    "# Leitura das variáveis de ambiente\n",
    "API_KEY = os.getenv(\"YOUTUBE_API_KEY\")\n",
    "CHANNEL_ID = os.getenv(\"CHANNEL_ID\")\n",
    "\n",
    "# Definição fixa de vídeos a coletar (5 mais visualizados)\n",
    "MAX_VIDEOS = 5\n",
    "\n",
    "# Validação das variáveis\n",
    "if not API_KEY or not CHANNEL_ID:\n",
    "    raise ValueError(\"⚠️ Verifique se o arquivo .env contém YOUTUBE_API_KEY e CHANNEL_ID corretamente configurados.\")\n",
    "\n",
    "print(\"✅ Variáveis carregadas com sucesso!\")\n"
   ]
  },
  {
   "cell_type": "markdown",
   "id": "958110a0",
   "metadata": {},
   "source": [
    "## 🔌 3. Conexão com a API do YouTube\n",
    "\n",
    "Nesta etapa é criada a conexão com a API oficial do YouTube, utilizando a biblioteca `googleapiclient`.\n"
   ]
  },
  {
   "cell_type": "code",
   "execution_count": 6,
   "id": "75a914b4",
   "metadata": {},
   "outputs": [
    {
     "name": "stdout",
     "output_type": "stream",
     "text": [
      "✅ Conexão estabelecida com a API do YouTube!\n"
     ]
    }
   ],
   "source": [
    "from googleapiclient.discovery import build\n",
    "\n",
    "try:\n",
    "    youtube = build(\"youtube\", \"v3\", developerKey=API_KEY)\n",
    "    print(\"✅ Conexão estabelecida com a API do YouTube!\")\n",
    "except Exception as e:\n",
    "    print(\"❌ Erro ao conectar à API do YouTube. Verifique sua chave e conexão com a internet.\")\n",
    "    raise e\n"
   ]
  },
  {
   "cell_type": "markdown",
   "id": "f73de836",
   "metadata": {},
   "source": [
    "## 🎯 4. Buscar vídeos do canal\n",
    "\n",
    "Esta etapa busca os **5 vídeos mais visualizados** do canal informado, com base no parâmetro `viewCount`.  \n",
    "Os resultados incluem o ID e o título de cada vídeo, que serão usados na coleta de comentários.\n"
   ]
  },
  {
   "cell_type": "code",
   "execution_count": 7,
   "id": "96c22638",
   "metadata": {},
   "outputs": [
    {
     "name": "stdout",
     "output_type": "stream",
     "text": [
      "✅ Vídeos encontrados:\n",
      "1. A ética é a arte da convivência! #shorts  #clovisdebarros (ID: U4YP4L7daAg)\n",
      "2. O que é ética? - Clóvis de Barros (ID: DB-egMDjlr8)\n",
      "3. Não se perca em quem você é! #shorts #clovisdebarros (ID: p4zJu5-N4bI)\n",
      "4. O amor não define a vida! | Clóvis de Barros (ID: GfGsTw1CItU)\n",
      "5. As concepções do amor - Clóvis de Barros (ID: 6lJ8tS0BkYM)\n"
     ]
    }
   ],
   "source": [
    "video_data = []\n",
    "\n",
    "try:\n",
    "    search_response = youtube.search().list(\n",
    "        part=\"id,snippet\",\n",
    "        channelId=CHANNEL_ID,\n",
    "        maxResults=MAX_VIDEOS,\n",
    "        order=\"viewCount\",   # 🔄 alterado: busca os vídeos mais visualizados\n",
    "        type=\"video\"\n",
    "    ).execute()\n",
    "\n",
    "    for item in search_response[\"items\"]:\n",
    "        video_data.append({\n",
    "            \"video_id\": item[\"id\"][\"videoId\"],\n",
    "            \"titulo\": item[\"snippet\"][\"title\"]\n",
    "        })\n",
    "\n",
    "    print(\"✅ Vídeos encontrados:\")\n",
    "    for i, v in enumerate(video_data, 1):\n",
    "        print(f\"{i}. {v['titulo']} (ID: {v['video_id']})\")\n",
    "\n",
    "except Exception as e:\n",
    "    print(\"❌ Erro ao buscar vídeos do canal.\")\n",
    "    raise e\n"
   ]
  },
  {
   "cell_type": "markdown",
   "id": "6b254036",
   "metadata": {},
   "source": [
    "## 💬 5. Função para extrair comentários\n",
    "\n",
    "A função abaixo busca **todos os comentários disponíveis** de um vídeo específico.  \n",
    "Utiliza paginação (`nextPageToken`) para superar o limite de 100 comentários por requisição.\n"
   ]
  },
  {
   "cell_type": "code",
   "execution_count": 8,
   "id": "b7c9e3a7",
   "metadata": {},
   "outputs": [],
   "source": [
    "def extrair_comentarios(video_id, max_comments=1000):\n",
    "    \"\"\"\n",
    "    Extrai comentários de um vídeo do YouTube, com suporte a paginação.\n",
    "\n",
    "    Parâmetros:\n",
    "    - video_id (str): ID do vídeo a ser analisado.\n",
    "    - max_comments (int): número máximo de comentários a coletar (padrão = 1000).\n",
    "    \"\"\"\n",
    "    comentarios = []\n",
    "    next_page_token = None\n",
    "\n",
    "    print(f\"\\n🔍 Coletando comentários do vídeo: {video_id}\")\n",
    "\n",
    "    while len(comentarios) < max_comments:\n",
    "        try:\n",
    "            response = youtube.commentThreads().list(\n",
    "                part=\"snippet\",\n",
    "                videoId=video_id,\n",
    "                maxResults=100,\n",
    "                textFormat=\"plainText\",\n",
    "                pageToken=next_page_token\n",
    "            ).execute()\n",
    "\n",
    "            for item in response.get(\"items\", []):\n",
    "                texto = item[\"snippet\"][\"topLevelComment\"][\"snippet\"][\"textDisplay\"]\n",
    "                comentarios.append(texto)\n",
    "\n",
    "            next_page_token = response.get(\"nextPageToken\")\n",
    "            if not next_page_token:\n",
    "                break\n",
    "\n",
    "        except Exception as e:\n",
    "            print(f\"⚠️ Erro ao buscar comentários do vídeo {video_id}: {e}\")\n",
    "            break\n",
    "\n",
    "    print(f\"✅ {len(comentarios)} comentários coletados do vídeo {video_id}\")\n",
    "    return comentarios\n"
   ]
  },
  {
   "cell_type": "markdown",
   "id": "e5d83e4f",
   "metadata": {},
   "source": [
    "## 🧾 Encerramento da Pipeline de Coleta\n",
    "\n",
    "A coleta de comentários foi concluída com sucesso.  \n",
    "Os dados foram extraídos via API do YouTube, estruturados em DataFrame e exportados em formato CSV.  \n",
    "\n",
    "➡️ A próxima etapa (Pipeline 2) será dedicada à **análise de sentimentos**, aplicando modelos de NLP em português sobre os comentários coletados.\n"
   ]
  }
 ],
 "metadata": {
  "kernelspec": {
   "display_name": ".venv",
   "language": "python",
   "name": "python3"
  },
  "language_info": {
   "codemirror_mode": {
    "name": "ipython",
    "version": 3
   },
   "file_extension": ".py",
   "mimetype": "text/x-python",
   "name": "python",
   "nbconvert_exporter": "python",
   "pygments_lexer": "ipython3",
   "version": "3.13.7"
  }
 },
 "nbformat": 4,
 "nbformat_minor": 5
}
