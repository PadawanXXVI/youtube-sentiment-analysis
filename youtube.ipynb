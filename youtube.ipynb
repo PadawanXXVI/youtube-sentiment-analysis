{
 "cells": [
  {
   "cell_type": "markdown",
   "id": "4dc1281f",
   "metadata": {},
   "source": [
    "# 🎥 Análise de Sentimentos em Comentários do YouTube\n",
    "\n",
    "Este notebook coleta comentários de vídeos de um canal do YouTube, aplica **análise de sentimentos em português** utilizando um modelo pré-treinado da HuggingFace e apresenta uma visualização da distribuição dos sentimentos."
   ]
  },
  {
   "cell_type": "markdown",
   "id": "8dc9c2ef",
   "metadata": {},
   "source": [
    "## 🔧 1. Importação das bibliotecas"
   ]
  },
  {
   "cell_type": "code",
   "execution_count": null,
   "id": "ec9b436a",
   "metadata": {},
   "outputs": [],
   "source": [
    "from googleapiclient.discovery import build\n",
    "from transformers import pipeline\n",
    "import pandas as pd\n",
    "import matplotlib.pyplot as plt\n",
    "import time"
   ]
  },
  {
   "cell_type": "markdown",
   "id": "a083cab8",
   "metadata": {},
   "source": [
    "## ⚙️ 2. Configurações iniciais\n",
    "\n",
    "- Substitua `api_key` pela sua chave da API do YouTube.\n",
    "- `channel_id` define o canal que será analisado.\n",
    "- `max_videos` define quantos vídeos recentes do canal serão processados."
   ]
  },
  {
   "cell_type": "code",
   "execution_count": null,
   "id": "7164defc",
   "metadata": {},
   "outputs": [],
   "source": [
    "import os\n",
    "from dotenv import load_dotenv\n",
    "\n",
    "# 🔐 Carregar variáveis do arquivo .env\n",
    "load_dotenv()\n",
    "\n",
    "api_key = os.getenv(\"YOUTUBE_API_KEY\")\n",
    "channel_id = os.getenv(\"CHANNEL_ID\")\n",
    "max_videos = int(os.getenv(\"MAX_VIDEOS\", 5))\n"
   ]
  },
  {
   "cell_type": "markdown",
   "id": "b64624e8",
   "metadata": {},
   "source": [
    "## 🔌 3. Conexão com a API do YouTube"
   ]
  },
  {
   "cell_type": "code",
   "execution_count": null,
   "id": "61bd922a",
   "metadata": {},
   "outputs": [],
   "source": [
    "youtube = build(\"youtube\", \"v3\", developerKey=api_key)"
   ]
  },
  {
   "cell_type": "markdown",
   "id": "04f885e7",
   "metadata": {},
   "source": [
    "## 🎯 4. Buscar vídeos do canal"
   ]
  },
  {
   "cell_type": "code",
   "execution_count": null,
   "id": "49980277",
   "metadata": {},
   "outputs": [
    {
     "data": {
      "text/plain": [
       "['TDv56whosPQ', 'R_BmT1OJw98', 'Z4hVGCWH1Kc', 'V6In4tmd-w8', 'c2ukL_zjFCk']"
      ]
     },
     "execution_count": 40,
     "metadata": {},
     "output_type": "execute_result"
    }
   ],
   "source": [
    "video_ids = []\n",
    "search_response = youtube.search().list(\n",
    "    part=\"id\",\n",
    "    channelId=channel_id,\n",
    "    maxResults=max_videos,\n",
    "    order=\"date\",\n",
    "    type=\"video\"\n",
    ").execute()\n",
    "\n",
    "for item in search_response[\"items\"]:\n",
    "    video_ids.append(item[\"id\"][\"videoId\"])\n",
    "\n",
    "video_ids"
   ]
  },
  {
   "cell_type": "markdown",
   "id": "727df43a",
   "metadata": {},
   "source": [
    "## 💬 5. Função para extrair comentários\n",
    "\n",
    "A função abaixo busca até 100 comentários do vídeo informado."
   ]
  },
  {
   "cell_type": "code",
   "execution_count": null,
   "id": "29e7f877",
   "metadata": {},
   "outputs": [],
   "source": [
    "def extrair_comentarios(video_id):\n",
    "    comentarios = []\n",
    "    try:\n",
    "        response = youtube.commentThreads().list(\n",
    "            part=\"snippet\",\n",
    "            videoId=video_id,\n",
    "            maxResults=100,\n",
    "            textFormat=\"plainText\"\n",
    "        ).execute()\n",
    "\n",
    "        for item in response.get(\"items\", []):\n",
    "            texto = item[\"snippet\"][\"topLevelComment\"][\"snippet\"][\"textDisplay\"]\n",
    "            comentarios.append(texto)\n",
    "\n",
    "    except Exception as e:\n",
    "        print(f\"Erro ao buscar comentários do vídeo {video_id}: {e}\")\n",
    "    return comentarios"
   ]
  },
  {
   "cell_type": "markdown",
   "id": "ccdbcbbe",
   "metadata": {},
   "source": [
    "## 🧠 6. Carregar o pipeline de análise de sentimentos\n",
    "\n",
    "Modelo em português disponível na HuggingFace."
   ]
  },
  {
   "cell_type": "code",
   "execution_count": null,
   "id": "dedabe78",
   "metadata": {},
   "outputs": [
    {
     "name": "stderr",
     "output_type": "stream",
     "text": [
      "Device set to use cpu\n"
     ]
    }
   ],
   "source": [
    "from transformers import pipeline\n",
    "\n",
    "# 🧠 Pipeline de análise de sentimentos em inglês\n",
    "sentiment_pipeline = pipeline(\n",
    "    \"sentiment-analysis\",\n",
    "    model=\"distilbert-base-uncased-finetuned-sst-2-english\"\n",
    ")\n"
   ]
  },
  {
   "cell_type": "markdown",
   "id": "357ffd14",
   "metadata": {},
   "source": [
    "## 📊 7. Processar comentários de todos os vídeos"
   ]
  },
  {
   "cell_type": "code",
   "execution_count": null,
   "id": "049c621a",
   "metadata": {},
   "outputs": [
    {
     "name": "stderr",
     "output_type": "stream",
     "text": [
      "Device set to use cpu\n"
     ]
    }
   ],
   "source": [
    "from transformers import pipeline\n",
    "\n",
    "sentiment_pipeline = pipeline(\n",
    "    \"sentiment-analysis\",\n",
    "    model=\"nlptown/bert-base-multilingual-uncased-sentiment\"\n",
    ")\n"
   ]
  },
  {
   "cell_type": "markdown",
   "id": "c1d3e85c",
   "metadata": {},
   "source": [
    "## 🧾 8. Criar DataFrame e salvar resultados"
   ]
  },
  {
   "cell_type": "code",
   "execution_count": null,
   "id": "47e0b0fe",
   "metadata": {},
   "outputs": [
    {
     "ename": "NameError",
     "evalue": "name 'todos_dados' is not defined",
     "output_type": "error",
     "traceback": [
      "\u001b[31m---------------------------------------------------------------------------\u001b[39m",
      "\u001b[31mNameError\u001b[39m                                 Traceback (most recent call last)",
      "\u001b[36mCell\u001b[39m\u001b[36m \u001b[39m\u001b[32mIn[44]\u001b[39m\u001b[32m, line 1\u001b[39m\n\u001b[32m----> \u001b[39m\u001b[32m1\u001b[39m df = pd.DataFrame(\u001b[43mtodos_dados\u001b[49m)\n\u001b[32m      2\u001b[39m df.to_csv(\u001b[33m\"\u001b[39m\u001b[33mcomentarios_sentimentos_pt.csv\u001b[39m\u001b[33m\"\u001b[39m, index=\u001b[38;5;28;01mFalse\u001b[39;00m)\n\u001b[32m      3\u001b[39m df.head()\n",
      "\u001b[31mNameError\u001b[39m: name 'todos_dados' is not defined"
     ]
    }
   ],
   "source": [
    "df = pd.DataFrame(todos_dados)\n",
    "df.to_csv(\"comentarios_sentimentos_pt.csv\", index=False)\n",
    "df.head()"
   ]
  },
  {
   "cell_type": "markdown",
   "id": "b3c48b8c",
   "metadata": {},
   "source": [
    "## 📈 9. Visualização dos sentimentos"
   ]
  },
  {
   "cell_type": "code",
   "execution_count": null,
   "id": "7545d8b7",
   "metadata": {},
   "outputs": [],
   "source": [
    "plt.figure(figsize=(10,6))\n",
    "df[\"sentimento\"].value_counts().plot(kind=\"bar\", color=\"lightgreen\", edgecolor=\"black\")\n",
    "plt.title(\"Distribuição de Sentimentos nos Comentários\")\n",
    "plt.xlabel(\"Sentimento\")\n",
    "plt.ylabel(\"Frequência\")\n",
    "plt.grid(True)\n",
    "plt.tight_layout()\n",
    "plt.show()"
   ]
  },
  {
   "cell_type": "markdown",
   "id": "52ad15e8",
   "metadata": {},
   "source": [
    "## ✅ 10. Conclusão\n",
    "\n",
    "- O notebook buscou os comentários dos vídeos mais recentes do canal.\n",
    "- Aplicou análise de sentimentos em português com modelo BERT.\n",
    "- Exportou os resultados para CSV.\n",
    "- Gerou gráfico da distribuição de sentimentos.\n",
    "\n",
    "Possíveis melhorias:\n",
    "- Processar mais vídeos e comentários.\n",
    "- Experimentar diferentes modelos de análise de sentimentos.\n",
    "- Criar visualizações mais ricas (ex.: nuvem de palavras, séries temporais)."
   ]
  }
 ],
 "metadata": {
  "kernelspec": {
   "display_name": ".venv",
   "language": "python",
   "name": "python3"
  },
  "language_info": {
   "codemirror_mode": {
    "name": "ipython",
    "version": 3
   },
   "file_extension": ".py",
   "mimetype": "text/x-python",
   "name": "python",
   "nbconvert_exporter": "python",
   "pygments_lexer": "ipython3",
   "version": "3.13.7"
  }
 },
 "nbformat": 4,
 "nbformat_minor": 5
}
