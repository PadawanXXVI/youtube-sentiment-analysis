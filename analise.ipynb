{
 "cells": [
  {
   "cell_type": "markdown",
   "id": "cccc9ac9",
   "metadata": {},
   "source": [
    "# 🎥 YouTube - Pipeline de Coleta de Comentários\n",
    "\n",
    "Este notebook implementa a **pipeline de coleta de dados** do projeto *Análise de Sentimentos em Comentários do YouTube*.  \n",
    "Aqui são coletados os comentários dos vídeos de um canal do YouTube utilizando a API oficial, estruturando a base de dados para análise posterior.\n",
    "\n",
    "📌 **Etapa:** Pipeline 1 – Coleta de Dados  \n",
    "📌 **Próxima etapa:** Pipeline 2 – Análise de Sentimentos\n"
   ]
  },
  {
   "cell_type": "markdown",
   "id": "d37c32c9",
   "metadata": {},
   "source": [
    "## 🔧 1. Importação das bibliotecas\n",
    "\n",
    "As bibliotecas abaixo permitem a conexão com a API do YouTube, o carregamento de variáveis de ambiente e a manipulação dos dados coletados.\n"
   ]
  },
  {
   "cell_type": "code",
   "execution_count": null,
   "id": "f4793b51",
   "metadata": {},
   "outputs": [],
   "source": [
    "# Bibliotecas para coleta e organização dos dados\n",
    "from googleapiclient.discovery import build\n",
    "from dotenv import load_dotenv\n",
    "import pandas as pd\n",
    "import os\n",
    "import time\n"
   ]
  },
  {
   "cell_type": "markdown",
   "id": "dd304065",
   "metadata": {},
   "source": [
    "## ⚙️ 2. Configurações iniciais\n",
    "\n",
    "Esta seção carrega as variáveis de ambiente e define os parâmetros principais para a coleta.\n",
    "\n",
    "- `YOUTUBE_API_KEY` → Chave da API do YouTube.\n",
    "- `CHANNEL_ID` → Canal que será analisado.\n",
    "- O notebook coleta, por padrão, os **5 vídeos mais visualizados** do canal.\n"
   ]
  },
  {
   "cell_type": "code",
   "execution_count": null,
   "id": "26de6d26",
   "metadata": {},
   "outputs": [],
   "source": [
    "import os\n",
    "from dotenv import load_dotenv\n",
    "\n",
    "# 🔐 Carregar variáveis do arquivo .env\n",
    "load_dotenv()\n",
    "\n",
    "# Leitura das variáveis de ambiente\n",
    "API_KEY = os.getenv(\"YOUTUBE_API_KEY\")\n",
    "CHANNEL_ID = os.getenv(\"CHANNEL_ID\")\n",
    "\n",
    "# Definição fixa de vídeos a coletar (5 mais visualizados)\n",
    "MAX_VIDEOS = 5\n",
    "\n",
    "# Validação das variáveis\n",
    "if not API_KEY or not CHANNEL_ID:\n",
    "    raise ValueError(\"⚠️ Verifique se o arquivo .env contém YOUTUBE_API_KEY e CHANNEL_ID corretamente configurados.\")\n",
    "\n",
    "print(\"✅ Variáveis carregadas com sucesso!\")\n"
   ]
  },
  {
   "cell_type": "markdown",
   "id": "958110a0",
   "metadata": {},
   "source": [
    "## 🔌 3. Conexão com a API do YouTube\n",
    "\n",
    "Nesta etapa é criada a conexão com a API oficial do YouTube, utilizando a biblioteca `googleapiclient`.\n"
   ]
  },
  {
   "cell_type": "code",
   "execution_count": null,
   "id": "75a914b4",
   "metadata": {},
   "outputs": [],
   "source": [
    "from googleapiclient.discovery import build\n",
    "\n",
    "try:\n",
    "    youtube = build(\"youtube\", \"v3\", developerKey=API_KEY)\n",
    "    print(\"✅ Conexão estabelecida com a API do YouTube!\")\n",
    "except Exception as e:\n",
    "    print(\"❌ Erro ao conectar à API do YouTube. Verifique sua chave e conexão com a internet.\")\n",
    "    raise e\n"
   ]
  },
  {
   "cell_type": "markdown",
   "id": "f73de836",
   "metadata": {},
   "source": [
    "## 🎯 4. Buscar vídeos do canal\n",
    "\n",
    "Esta etapa busca os **5 vídeos mais visualizados** do canal informado, com base no parâmetro `viewCount`.  \n",
    "Os resultados incluem o ID e o título de cada vídeo, que serão usados na coleta de comentários.\n"
   ]
  },
  {
   "cell_type": "code",
   "execution_count": null,
   "id": "96c22638",
   "metadata": {},
   "outputs": [],
   "source": [
    "video_data = []\n",
    "\n",
    "try:\n",
    "    search_response = youtube.search().list(\n",
    "        part=\"id,snippet\",\n",
    "        channelId=CHANNEL_ID,\n",
    "        maxResults=MAX_VIDEOS,\n",
    "        order=\"viewCount\",   # 🔄 alterado: busca os vídeos mais visualizados\n",
    "        type=\"video\"\n",
    "    ).execute()\n",
    "\n",
    "    for item in search_response[\"items\"]:\n",
    "        video_data.append({\n",
    "            \"video_id\": item[\"id\"][\"videoId\"],\n",
    "            \"titulo\": item[\"snippet\"][\"title\"]\n",
    "        })\n",
    "\n",
    "    print(\"✅ Vídeos encontrados:\")\n",
    "    for i, v in enumerate(video_data, 1):\n",
    "        print(f\"{i}. {v['titulo']} (ID: {v['video_id']})\")\n",
    "\n",
    "except Exception as e:\n",
    "    print(\"❌ Erro ao buscar vídeos do canal.\")\n",
    "    raise e\n"
   ]
  },
  {
   "cell_type": "markdown",
   "id": "6b254036",
   "metadata": {},
   "source": [
    "## 💬 5. Função para extrair comentários\n",
    "\n",
    "A função abaixo busca **todos os comentários disponíveis** de um vídeo específico.  \n",
    "Utiliza paginação (`nextPageToken`) para superar o limite de 100 comentários por requisição.\n"
   ]
  },
  {
   "cell_type": "code",
   "execution_count": null,
   "id": "b7c9e3a7",
   "metadata": {},
   "outputs": [],
   "source": [
    "def extrair_comentarios(video_id, max_comments=1000):\n",
    "    \"\"\"\n",
    "    Extrai comentários de um vídeo do YouTube, com suporte a paginação.\n",
    "\n",
    "    Parâmetros:\n",
    "    - video_id (str): ID do vídeo a ser analisado.\n",
    "    - max_comments (int): número máximo de comentários a coletar (padrão = 1000).\n",
    "    \"\"\"\n",
    "    comentarios = []\n",
    "    next_page_token = None\n",
    "\n",
    "    print(f\"\\n🔍 Coletando comentários do vídeo: {video_id}\")\n",
    "\n",
    "    while len(comentarios) < max_comments:\n",
    "        try:\n",
    "            response = youtube.commentThreads().list(\n",
    "                part=\"snippet\",\n",
    "                videoId=video_id,\n",
    "                maxResults=100,\n",
    "                textFormat=\"plainText\",\n",
    "                pageToken=next_page_token\n",
    "            ).execute()\n",
    "\n",
    "            for item in response.get(\"items\", []):\n",
    "                texto = item[\"snippet\"][\"topLevelComment\"][\"snippet\"][\"textDisplay\"]\n",
    "                comentarios.append(texto)\n",
    "\n",
    "            next_page_token = response.get(\"nextPageToken\")\n",
    "            if not next_page_token:\n",
    "                break\n",
    "\n",
    "        except Exception as e:\n",
    "            print(f\"⚠️ Erro ao buscar comentários do vídeo {video_id}: {e}\")\n",
    "            break\n",
    "\n",
    "    print(f\"✅ {len(comentarios)} comentários coletados do vídeo {video_id}\")\n",
    "    return comentarios\n"
   ]
  },
  {
   "cell_type": "markdown",
   "id": "e5d83e4f",
   "metadata": {},
   "source": [
    "## 🧾 Encerramento da Pipeline de Coleta\n",
    "\n",
    "A coleta de comentários foi concluída com sucesso.  \n",
    "Os dados foram extraídos via API do YouTube, estruturados em DataFrame e exportados em formato CSV.  \n",
    "\n",
    "➡️ A próxima etapa (Pipeline 2) será dedicada à **análise de sentimentos**, aplicando modelos de NLP em português sobre os comentários coletados.\n"
   ]
  },
  {
   "cell_type": "markdown",
   "id": "ccdbcbbe",
   "metadata": {},
   "source": [
    "## 🧠 6. Carregar o pipeline de análise de sentimentos\n",
    "\n",
    "Modelo em português disponível na HuggingFace."
   ]
  },
  {
   "cell_type": "code",
   "execution_count": 24,
   "id": "dedabe78",
   "metadata": {},
   "outputs": [
    {
     "name": "stderr",
     "output_type": "stream",
     "text": [
      "Device set to use cpu\n"
     ]
    }
   ],
   "source": [
    "from transformers import pipeline\n",
    "\n",
    "# 🧠 Pipeline de análise de sentimentos em inglês\n",
    "sentiment_pipeline = pipeline(\n",
    "    \"sentiment-analysis\",\n",
    "    model=\"distilbert-base-uncased-finetuned-sst-2-english\"\n",
    ")\n"
   ]
  },
  {
   "cell_type": "markdown",
   "id": "357ffd14",
   "metadata": {},
   "source": [
    "## 📊 7. Processar comentários de todos os vídeos"
   ]
  },
  {
   "cell_type": "code",
   "execution_count": 25,
   "id": "049c621a",
   "metadata": {},
   "outputs": [
    {
     "name": "stderr",
     "output_type": "stream",
     "text": [
      "Device set to use cpu\n"
     ]
    }
   ],
   "source": [
    "from transformers import pipeline\n",
    "\n",
    "sentiment_pipeline = pipeline(\n",
    "    \"sentiment-analysis\",\n",
    "    model=\"nlptown/bert-base-multilingual-uncased-sentiment\"\n",
    ")\n"
   ]
  },
  {
   "cell_type": "markdown",
   "id": "c1d3e85c",
   "metadata": {},
   "source": [
    "## 🧾 8. Criar DataFrame e salvar resultados"
   ]
  },
  {
   "cell_type": "code",
   "execution_count": 29,
   "id": "1c1f3894",
   "metadata": {},
   "outputs": [
    {
     "name": "stdout",
     "output_type": "stream",
     "text": [
      "Analisando 100 comentários do vídeo 50G0kIty7Cg...\n",
      "Analisando 100 comentários do vídeo 4l97aNza_Zc...\n",
      "Analisando 100 comentários do vídeo 3ih2bPKSWsQ...\n",
      "Analisando 100 comentários do vídeo _AbFXuGDRTs...\n",
      "Analisando 100 comentários do vídeo TDv56whosPQ...\n"
     ]
    }
   ],
   "source": [
    "todos_dados = []\n",
    "for video_id in video_ids:\n",
    "    comentarios = extrair_comentarios(video_id)\n",
    "    print(f\"Analisando {len(comentarios)} comentários do vídeo {video_id}...\")\n",
    "    for comentario in comentarios:\n",
    "        try:\n",
    "            resultado = sentiment_pipeline(comentario[:1000])[0]  # Limitar a 512 caracteres\n",
    "            todos_dados.append({\n",
    "                \"video_id\": video_id,\n",
    "                \"comentario\": comentario,\n",
    "                \"label\": resultado[\"label\"],\n",
    "                \"score\": resultado[\"score\"]\n",
    "            })\n",
    "        except Exception as e:\n",
    "            print(f\"Erro ao analisar comentário: {e}\")\n",
    "    time.sleep(1)  # Evitar limites de taxa"
   ]
  },
  {
   "cell_type": "code",
   "execution_count": 31,
   "id": "47e0b0fe",
   "metadata": {},
   "outputs": [
    {
     "data": {
      "text/html": [
       "<div>\n",
       "<style scoped>\n",
       "    .dataframe tbody tr th:only-of-type {\n",
       "        vertical-align: middle;\n",
       "    }\n",
       "\n",
       "    .dataframe tbody tr th {\n",
       "        vertical-align: top;\n",
       "    }\n",
       "\n",
       "    .dataframe thead th {\n",
       "        text-align: right;\n",
       "    }\n",
       "</style>\n",
       "<table border=\"1\" class=\"dataframe\">\n",
       "  <thead>\n",
       "    <tr style=\"text-align: right;\">\n",
       "      <th></th>\n",
       "      <th>video_id</th>\n",
       "      <th>comentario</th>\n",
       "      <th>label</th>\n",
       "      <th>score</th>\n",
       "    </tr>\n",
       "  </thead>\n",
       "  <tbody>\n",
       "    <tr>\n",
       "      <th>0</th>\n",
       "      <td>50G0kIty7Cg</td>\n",
       "      <td>Who would you call?</td>\n",
       "      <td>1 star</td>\n",
       "      <td>0.291374</td>\n",
       "    </tr>\n",
       "    <tr>\n",
       "      <th>1</th>\n",
       "      <td>50G0kIty7Cg</td>\n",
       "      <td>❤️</td>\n",
       "      <td>5 stars</td>\n",
       "      <td>0.308578</td>\n",
       "    </tr>\n",
       "    <tr>\n",
       "      <th>2</th>\n",
       "      <td>50G0kIty7Cg</td>\n",
       "      <td>🎉🎉🎉🎉🎉</td>\n",
       "      <td>5 stars</td>\n",
       "      <td>0.308578</td>\n",
       "    </tr>\n",
       "    <tr>\n",
       "      <th>3</th>\n",
       "      <td>50G0kIty7Cg</td>\n",
       "      <td>No disponible para LATAM🫤</td>\n",
       "      <td>1 star</td>\n",
       "      <td>0.579419</td>\n",
       "    </tr>\n",
       "    <tr>\n",
       "      <th>4</th>\n",
       "      <td>50G0kIty7Cg</td>\n",
       "      <td>❤❤❤❤❤❤❤❤😢😢</td>\n",
       "      <td>5 stars</td>\n",
       "      <td>0.308578</td>\n",
       "    </tr>\n",
       "  </tbody>\n",
       "</table>\n",
       "</div>"
      ],
      "text/plain": [
       "      video_id                 comentario    label     score\n",
       "0  50G0kIty7Cg        Who would you call?   1 star  0.291374\n",
       "1  50G0kIty7Cg                         ❤️  5 stars  0.308578\n",
       "2  50G0kIty7Cg                      🎉🎉🎉🎉🎉  5 stars  0.308578\n",
       "3  50G0kIty7Cg  No disponible para LATAM🫤   1 star  0.579419\n",
       "4  50G0kIty7Cg                 ❤❤❤❤❤❤❤❤😢😢  5 stars  0.308578"
      ]
     },
     "execution_count": 31,
     "metadata": {},
     "output_type": "execute_result"
    }
   ],
   "source": [
    "df = pd.DataFrame(todos_dados)\n",
    "df.to_csv(\"comentarios_sentimentos_pt.csv\", index=False)\n",
    "df.head()"
   ]
  },
  {
   "cell_type": "markdown",
   "id": "b3c48b8c",
   "metadata": {},
   "source": [
    "## 📈 9. Visualização dos sentimentos"
   ]
  },
  {
   "cell_type": "code",
   "execution_count": 32,
   "id": "7545d8b7",
   "metadata": {},
   "outputs": [
    {
     "data": {
      "image/png": "[encoded data removed]",
      "text/plain": [
       "<Figure size 1000x600 with 1 Axes>"
      ]
     },
     "metadata": {},
     "output_type": "display_data"
    }
   ],
   "source": [
    "plt.figure(figsize=(10,6))\n",
    "df[\"label\"].value_counts().plot(kind=\"bar\", color=\"lightgreen\", edgecolor=\"black\")\n",
    "plt.title(\"Distribuição de Sentimentos nos Comentários\")\n",
    "plt.xlabel(\"Sentimento\")\n",
    "plt.ylabel(\"Frequência\")\n",
    "plt.grid(True)\n",
    "plt.tight_layout()\n",
    "plt.show()"
   ]
  },
  {
   "cell_type": "markdown",
   "id": "52ad15e8",
   "metadata": {},
   "source": [
    "## ✅ 10. Conclusão\n",
    "\n",
    "- O notebook buscou os comentários dos vídeos mais recentes do canal.\n",
    "- Aplicou análise de sentimentos em português com modelo BERT.\n",
    "- Exportou os resultados para CSV.\n",
    "- Gerou gráfico da distribuição de sentimentos.\n",
    "\n",
    "Possíveis melhorias:\n",
    "- Processar mais vídeos e comentários.\n",
    "- Experimentar diferentes modelos de análise de sentimentos.\n",
    "- Criar visualizações mais ricas (ex.: nuvem de palavras, séries temporais)."
   ]
  }
 ],
 "metadata": {
  "kernelspec": {
   "display_name": ".venv",
   "language": "python",
   "name": "python3"
  },
  "language_info": {
   "codemirror_mode": {
    "name": "ipython",
    "version": 3
   },
   "file_extension": ".py",
   "mimetype": "text/x-python",
   "name": "python",
   "nbconvert_exporter": "python",
   "pygments_lexer": "ipython3",
   "version": "3.13.7"
  }
 },
 "nbformat": 4,
 "nbformat_minor": 5
}
